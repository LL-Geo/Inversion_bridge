{
 "cells": [
  {
   "cell_type": "markdown",
   "id": "3e341ee2",
   "metadata": {},
   "source": [
    "# Convert Tomofast mesh file ('mesh.txt') to VTK\n",
    "\n",
    "You need to install evtk by pip install pyevtk"
   ]
  },
  {
   "cell_type": "code",
   "execution_count": 1,
   "id": "cc60fb1a",
   "metadata": {},
   "outputs": [],
   "source": [
    "from evtk import hl\n",
    "import numpy as np \n",
    "def mesh2vtk(meshname,outname,denfile=None):\n",
    "    # meshname is the mesh file name\n",
    "    # outname is the output vts filename\n",
    "    # denfile is the external density file alian with your mesh\n",
    "    # If denfile is None, it will read the initial density from the initial mesh\n",
    "    \n",
    "    data = np.genfromtxt(meshname, delimiter=' ', skip_header=1, dtype=float)\n",
    "    x = (data[:,0] + data[:,1])/2\n",
    "    y = (data[:,2] + data[:,3])/2\n",
    "    z = (data[:,4] + data[:,5])/2\n",
    "    den_initial = data[:,6]\n",
    "    ix = int(data[:,7].max())\n",
    "    iy = int(data[:,8].max())\n",
    "    iz = int(data[:,9].max())\n",
    "\n",
    "    x = x.reshape(iz,iy,ix);\n",
    "    y = y.reshape(iz,iy,ix);\n",
    "    z = z.reshape(iz,iy,ix);\n",
    "    if denfile:\n",
    "        den_initial = np.genfromtxt(denfile, delimiter=' ', skip_header=1, dtype=float)\n",
    "    else:\n",
    "        den_initial = data[:,6]\n",
    "\n",
    "    den = den_initial.reshape(iz,iy,ix)\n",
    "    den = np.ascontiguousarray(den)\n",
    "\n",
    "    hl.gridToVTK(outname, x, y, z, pointData = {\"density\" : den})"
   ]
  },
  {
   "cell_type": "code",
   "execution_count": 2,
   "id": "f8b2132e",
   "metadata": {},
   "outputs": [],
   "source": [
    "# Convert mesh to a vtk file with initial density\n",
    "mesh2vtk('mesh.txt','mesh_den_initial')"
   ]
  },
  {
   "cell_type": "code",
   "execution_count": 3,
   "id": "4b64f3c0",
   "metadata": {},
   "outputs": [],
   "source": [
    "# Convert mesh to a vtk file with other density file\n",
    "mesh2vtk('mesh.txt','mesh_den_other','grav_final_voxet_full.txt')"
   ]
  }
 ],
 "metadata": {
  "kernelspec": {
   "display_name": "Python 3 (ipykernel)",
   "language": "python",
   "name": "python3"
  },
  "language_info": {
   "codemirror_mode": {
    "name": "ipython",
    "version": 3
   },
   "file_extension": ".py",
   "mimetype": "text/x-python",
   "name": "python",
   "nbconvert_exporter": "python",
   "pygments_lexer": "ipython3",
   "version": "3.10.9"
  }
 },
 "nbformat": 4,
 "nbformat_minor": 5
}
